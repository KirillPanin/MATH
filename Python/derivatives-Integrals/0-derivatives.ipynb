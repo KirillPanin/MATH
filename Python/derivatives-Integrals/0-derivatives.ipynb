{
 "cells": [
  {
   "cell_type": "code",
   "execution_count": 78,
   "metadata": {},
   "outputs": [],
   "source": [
    "import numpy as np\n",
    "import matplotlib as mpl\n",
    "import matplotlib.pyplot as plt\n",
    "from scipy.misc import derivative\n",
    "from math import sqrt"
   ]
  },
  {
   "cell_type": "code",
   "execution_count": 79,
   "metadata": {
    "scrolled": true
   },
   "outputs": [
    {
     "name": "stdout",
     "output_type": "stream",
     "text": [
      "Help on function derivative in module scipy.misc.common:\n",
      "\n",
      "derivative(func, x0, dx=1.0, n=1, args=(), order=3)\n",
      "    Find the n-th derivative of a function at a point.\n",
      "    \n",
      "    Given a function, use a central difference formula with spacing `dx` to\n",
      "    compute the `n`-th derivative at `x0`.\n",
      "    \n",
      "    Parameters\n",
      "    ----------\n",
      "    func : function\n",
      "        Input function.\n",
      "    x0 : float\n",
      "        The point at which `n`-th derivative is found.\n",
      "    dx : float, optional\n",
      "        Spacing.\n",
      "    n : int, optional\n",
      "        Order of the derivative. Default is 1.\n",
      "    args : tuple, optional\n",
      "        Arguments\n",
      "    order : int, optional\n",
      "        Number of points to use, must be odd.\n",
      "    \n",
      "    Notes\n",
      "    -----\n",
      "    Decreasing the step size too small can result in round-off error.\n",
      "    \n",
      "    Examples\n",
      "    --------\n",
      "    >>> from scipy.misc import derivative\n",
      "    >>> def f(x):\n",
      "    ...     return x**3 + x**2\n",
      "    >>> derivative(f, 1.0, dx=1e-6)\n",
      "    4.9999999999217337\n",
      "\n"
     ]
    }
   ],
   "source": [
    "help(sc.misc.derivative)"
   ]
  },
  {
   "cell_type": "code",
   "execution_count": 74,
   "metadata": {},
   "outputs": [
    {
     "name": "stdout",
     "output_type": "stream",
     "text": [
      " f1'= 20.0 \n",
      " f2'= 5.040171699309127\n"
     ]
    }
   ],
   "source": [
    "def f1(x):\n",
    "    return(x**3 + x**2 + 20)\n",
    "def f2(x):\n",
    "    return(20*sqrt(x))\n",
    "print(\" f1'=\",derivative(f1,x0=3,n=2),\"\\n\",\n",
    "      \"f2'=\",derivative(f2,x0=4,n=1))"
   ]
  },
  {
   "cell_type": "markdown",
   "metadata": {},
   "source": [
    "$f'(a)=\\displaystyle \\lim_{\\varepsilon\\to0}\\frac{f(a+\\varepsilon)-f(a)}{\\varepsilon}$"
   ]
  },
  {
   "cell_type": "code",
   "execution_count": 90,
   "metadata": {},
   "outputs": [
    {
     "name": "stdout",
     "output_type": "stream",
     "text": [
      "Derivative of linear function $24*x+13$ : 24.0\n",
      "Derivative of quadratic function $24*x**2+13$ : 48.0\n"
     ]
    }
   ],
   "source": [
    "# derivative of constant equal 0\n",
    "# derivative of linear function equal constant\n",
    "#(linear functions have permanent velocity)\n",
    "def f(x): return(24*x+13)\n",
    "print(\"Derivative of linear function $24*x+13$ :\",\n",
    "      derivative(func=f,x0=1,n=1))\n",
    "\n",
    "# Сonsider the quadratic function\n",
    "def f(x): return(24*x**2+13)\n",
    "print(\"Derivative of quadratic function $24*x**2+13$ :\",\n",
    "      derivative(func=f,x0=1,n=1))"
   ]
  }
 ],
 "metadata": {
  "kernelspec": {
   "display_name": "Python 3",
   "language": "python",
   "name": "python3"
  },
  "language_info": {
   "codemirror_mode": {
    "name": "ipython",
    "version": 3
   },
   "file_extension": ".py",
   "mimetype": "text/x-python",
   "name": "python",
   "nbconvert_exporter": "python",
   "pygments_lexer": "ipython3",
   "version": "3.6.4"
  }
 },
 "nbformat": 4,
 "nbformat_minor": 2
}
